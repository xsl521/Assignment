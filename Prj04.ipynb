{
 "cells": [
  {
   "cell_type": "markdown",
   "metadata": {
    "collapsed": false
   },
   "source": [
    "#### Prj04:\n",
    "Consider the following data sets:\n",
    "\n",
    "Today: Sep 27, 2018\n",
    "\n",
    "Spot price: 290.68\n",
    "\n",
    "Maturity: Dec 31, 2018\n",
    "\n",
    "Strike: 288\n",
    "\n",
    "rate: 0.02\n",
    "\n",
    "Market call price: 9.23\n",
    "\n",
    "#### Todo:\n",
    "If the volatility is 30% , what is the difference between BSM call price and market call price?\n",
    "\n",
    "Compute the implied volatility."
   ]
  },
  {
   "cell_type": "code",
   "execution_count": 13,
   "metadata": {
    "collapsed": false
   },
   "outputs": [
   ],
   "source": [
    "import numpy as np\n",
    "import scipy.stats as ss\n",
    "import math\n",
    "import pandas as pd\n",
    "from scipy import optimize\n",
    "import datetime as dt"
   ]
  },
  {
   "cell_type": "code",
   "execution_count": 5,
   "metadata": {
    "collapsed": false
   },
   "outputs": [
   ],
   "source": [
    "def d1f(S0,K,T,r,sigma):    # define a fuction to compute the factor: d1\n",
    "    d1=(math.log(S0/K)+(r+0.5*(sigma**2)*T))/(sigma*math.sqrt(T))\n",
    "    return d1"
   ]
  },
  {
   "cell_type": "code",
   "execution_count": 6,
   "metadata": {
    "collapsed": false
   },
   "outputs": [
   ],
   "source": [
    "def BSM_call_value(S0,K,T,r,sigma):  # define a funtion to compute BSM call option price\n",
    "    d1=d1f(S0,K,T,r,sigma)\n",
    "    d2=d1-(sigma*math.sqrt(T))\n",
    "    call_value=S0*ss.norm.cdf(d1)-math.exp(-r*T)*K*ss.norm.cdf(d2)\n",
    "    return call_value"
   ]
  },
  {
   "cell_type": "code",
   "execution_count": 7,
   "metadata": {
    "collapsed": false
   },
   "outputs": [
   ],
   "source": [
    "def Dif():                      # define a funtion to compute the difference of theoretical price of BSM call price and given market price\n",
    "    C0=BSM_call_value(S0,K,T,r,sigma)\n",
    "    Difference=C0-MP\n",
    "    return Difference"
   ]
  },
  {
   "cell_type": "code",
   "execution_count": 8,
   "metadata": {
    "collapsed": false
   },
   "outputs": [
   ],
   "source": [
    "def IVolBsm(S0, K, T, r, MP):   # define a funtion to compute implied volitility\n",
    "    InitVol = .3\n",
    "    error = lambda sigma: (BSM_call_value(S0, K, T, r, sigma) - MP)**2\n",
    "    opt = optimize.fmin(error, InitVol)\n",
    "    return opt[0]"
   ]
  },
  {
   "cell_type": "code",
   "execution_count": 9,
   "metadata": {
    "collapsed": false
   },
   "outputs": [
   ],
   "source": [
    "#Given parameters are following:\n",
    "S0=290.68                     # Current stock price\n",
    "K=288                         # Strike price\n",
    "Today=dt.date(2018,9,27)      # Today's date\n",
    "Maturity=dt.date(2018,12,31)  # Maturity date\n",
    "T=(Maturity-Today).days/365   # Time period = T\n",
    "r=0.02                        # Risk-free rate\n",
    "sigma=0.3                     # Volatility\n",
    "MP=9.28                       # Market call price"
   ]
  },
  {
   "cell_type": "code",
   "execution_count": 10,
   "metadata": {
    "collapsed": false
   },
   "outputs": [
    {
     "data": {
      "text/plain": [
       "19.688906838835095"
      ]
     },
     "execution_count": 10,
     "metadata": {
     },
     "output_type": "execute_result"
    }
   ],
   "source": [
    "BSM_call_value(S0,K,T,r,sigma) # output the BSM call price "
   ]
  },
  {
   "cell_type": "code",
   "execution_count": 11,
   "metadata": {
    "collapsed": false
   },
   "outputs": [
    {
     "data": {
      "text/plain": [
       "10.408906838835096"
      ]
     },
     "execution_count": 11,
     "metadata": {
     },
     "output_type": "execute_result"
    }
   ],
   "source": [
    "Dif() # output the difference of theoretical BSM call price and market price"
   ]
  },
  {
   "cell_type": "code",
   "execution_count": 12,
   "metadata": {
    "collapsed": false
   },
   "outputs": [
    {
     "name": "stdout",
     "output_type": "stream",
     "text": [
      "Optimization terminated successfully.\n",
      "         Current function value: 0.000002\n",
      "         Iterations: 14\n",
      "         Function evaluations: 28\n"
     ]
    },
    {
     "data": {
      "text/plain": [
       "0.1224023437499995"
      ]
     },
     "execution_count": 12,
     "metadata": {
     },
     "output_type": "execute_result"
    }
   ],
   "source": [
    "IVolBsm(S0,K,T,r,MP) # output the implied volatility"
   ]
  }
 ],
 "metadata": {
  "kernelspec": {
   "display_name": "Python 3 (Anaconda 5)",
   "language": "python",
   "name": "anaconda5"
  },
  "language_info": {
   "codemirror_mode": {
    "name": "ipython",
    "version": 3
   },
   "file_extension": ".py",
   "mimetype": "text/x-python",
   "name": "python",
   "nbconvert_exporter": "python",
   "pygments_lexer": "ipython3",
   "version": "3.6.5"
  }
 },
 "nbformat": 4,
 "nbformat_minor": 0
}